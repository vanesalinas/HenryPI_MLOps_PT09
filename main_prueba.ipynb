{
 "cells": [
  {
   "cell_type": "code",
   "execution_count": 1,
   "metadata": {},
   "outputs": [],
   "source": [
    "import pandas as pd\n"
   ]
  },
  {
   "cell_type": "code",
   "execution_count": 2,
   "metadata": {},
   "outputs": [],
   "source": [
    "df_actores = pd.read_csv('./Datasets/actores.csv')\n",
    "df_directores = pd.read_csv('./Datasets/directores.csv')\n",
    "df_fecha_estreno = pd.read_csv('./Datasets/fecha_estreno.csv')\n",
    "df_score_votos = pd.read_csv('./Datasets/score_votos.csv')"
   ]
  },
  {
   "cell_type": "code",
   "execution_count": 15,
   "metadata": {},
   "outputs": [
    {
     "data": {
      "text/plain": [
       "dtype('O')"
      ]
     },
     "execution_count": 15,
     "metadata": {},
     "output_type": "execute_result"
    }
   ],
   "source": [
    "df_fecha_estreno['release_date'].dtype"
   ]
  },
  {
   "cell_type": "code",
   "execution_count": 16,
   "metadata": {},
   "outputs": [
    {
     "name": "stdout",
     "output_type": "stream",
     "text": [
      "<class 'pandas.core.frame.DataFrame'>\n",
      "Index: 45376 entries, 0 to 45378\n",
      "Data columns (total 1 columns):\n",
      " #   Column        Non-Null Count  Dtype \n",
      "---  ------        --------------  ----- \n",
      " 0   release_date  45376 non-null  object\n",
      "dtypes: object(1)\n",
      "memory usage: 709.0+ KB\n"
     ]
    }
   ],
   "source": [
    "df_fecha_estreno.info()"
   ]
  },
  {
   "cell_type": "code",
   "execution_count": 10,
   "metadata": {},
   "outputs": [],
   "source": [
    "df_fecha_estreno.dropna(subset=['release_date'], inplace=True)"
   ]
  },
  {
   "cell_type": "code",
   "execution_count": 53,
   "metadata": {},
   "outputs": [],
   "source": [
    "def cantidad_filmaciones_mes( Mes: str ):\n",
    "    '''\n",
    "    Se ingresa un mes en idioma Español y devuelve la cantidad de películas que fueron estrenadas en ese mes.\n",
    "\n",
    "    Parametros\n",
    "    ----------\n",
    "    mes : str\n",
    "\n",
    "    Retorno\n",
    "    -------\n",
    "    Cantidad de películas estrenadas en el mes consultado\n",
    "\n",
    "    '''\n",
    "\n",
    "    # Convertir 'release_date' a tipo datetime\n",
    "    df_fecha_estreno['release_date'] = pd.to_datetime(df_fecha_estreno['release_date'], format='%Y-%m-%d', errors='coerce')\n",
    "\n",
    "    #Crea una lista con los meses en español\n",
    "    meses = ['','Enero', 'Febrero', 'Marzo', 'Abril', 'Mayo', 'Junio','Julio', 'Agosto', 'Septiembre', 'Octubre', 'Noviembre', 'Diciembre']\n",
    "    \n",
    "    # Si mes es un número, convertir directamente a entero\n",
    "    if Mes.isdigit():\n",
    "        numero_mes = int(Mes)\n",
    "        if numero_mes < 1 or numero_mes > 12:\n",
    "            return \"El número de mes debe estar entre 1 y 12\"\n",
    "    else:\n",
    "        # Si es un string, convertir el nombre del mes a su número correspondiente\n",
    "        try:\n",
    "            numero_mes = list(meses).index(Mes.capitalize())\n",
    "        except ValueError:\n",
    "            return f\"El mes '{Mes}' no está en la lista de meses válidos\"\n",
    "    \n",
    "    # Contar cuántos registros contienen el mes especificado\n",
    "    resultado = df_fecha_estreno[df_fecha_estreno['release_date'].dt.month == numero_mes].shape[0]\n",
    "\n",
    "    return f\"{resultado} películas fueron estrenadas en el mes {numero_mes}\""
   ]
  },
  {
   "cell_type": "code",
   "execution_count": 54,
   "metadata": {},
   "outputs": [
    {
     "data": {
      "text/plain": [
       "'El número de mes debe estar entre 1 y 12'"
      ]
     },
     "execution_count": 54,
     "metadata": {},
     "output_type": "execute_result"
    }
   ],
   "source": [
    "mes = '16'\n",
    "\n",
    "cantidad_filmaciones_mes(mes)"
   ]
  },
  {
   "cell_type": "code",
   "execution_count": 24,
   "metadata": {},
   "outputs": [
    {
     "data": {
      "text/html": [
       "<div>\n",
       "<style scoped>\n",
       "    .dataframe tbody tr th:only-of-type {\n",
       "        vertical-align: middle;\n",
       "    }\n",
       "\n",
       "    .dataframe tbody tr th {\n",
       "        vertical-align: top;\n",
       "    }\n",
       "\n",
       "    .dataframe thead th {\n",
       "        text-align: right;\n",
       "    }\n",
       "</style>\n",
       "<table border=\"1\" class=\"dataframe\">\n",
       "  <thead>\n",
       "    <tr style=\"text-align: right;\">\n",
       "      <th></th>\n",
       "      <th>release_date</th>\n",
       "    </tr>\n",
       "  </thead>\n",
       "  <tbody>\n",
       "    <tr>\n",
       "      <th>9</th>\n",
       "      <td>1995-11-16</td>\n",
       "    </tr>\n",
       "    <tr>\n",
       "      <th>10</th>\n",
       "      <td>1995-11-17</td>\n",
       "    </tr>\n",
       "    <tr>\n",
       "      <th>15</th>\n",
       "      <td>1995-11-22</td>\n",
       "    </tr>\n",
       "    <tr>\n",
       "      <th>18</th>\n",
       "      <td>1995-11-10</td>\n",
       "    </tr>\n",
       "    <tr>\n",
       "      <th>19</th>\n",
       "      <td>1995-11-21</td>\n",
       "    </tr>\n",
       "    <tr>\n",
       "      <th>...</th>\n",
       "      <td>...</td>\n",
       "    </tr>\n",
       "    <tr>\n",
       "      <th>45323</th>\n",
       "      <td>2004-11-11</td>\n",
       "    </tr>\n",
       "    <tr>\n",
       "      <th>45324</th>\n",
       "      <td>2006-11-23</td>\n",
       "    </tr>\n",
       "    <tr>\n",
       "      <th>45327</th>\n",
       "      <td>2007-11-29</td>\n",
       "    </tr>\n",
       "    <tr>\n",
       "      <th>45341</th>\n",
       "      <td>2015-11-07</td>\n",
       "    </tr>\n",
       "    <tr>\n",
       "      <th>45375</th>\n",
       "      <td>2011-11-17</td>\n",
       "    </tr>\n",
       "  </tbody>\n",
       "</table>\n",
       "<p>3661 rows × 1 columns</p>\n",
       "</div>"
      ],
      "text/plain": [
       "      release_date\n",
       "9       1995-11-16\n",
       "10      1995-11-17\n",
       "15      1995-11-22\n",
       "18      1995-11-10\n",
       "19      1995-11-21\n",
       "...            ...\n",
       "45323   2004-11-11\n",
       "45324   2006-11-23\n",
       "45327   2007-11-29\n",
       "45341   2015-11-07\n",
       "45375   2011-11-17\n",
       "\n",
       "[3661 rows x 1 columns]"
      ]
     },
     "execution_count": 24,
     "metadata": {},
     "output_type": "execute_result"
    }
   ],
   "source": [
    "df_fecha_estreno[df_fecha_estreno['release_date'].dt.month == 11]"
   ]
  }
 ],
 "metadata": {
  "kernelspec": {
   "display_name": "Python 3",
   "language": "python",
   "name": "python3"
  },
  "language_info": {
   "codemirror_mode": {
    "name": "ipython",
    "version": 3
   },
   "file_extension": ".py",
   "mimetype": "text/x-python",
   "name": "python",
   "nbconvert_exporter": "python",
   "pygments_lexer": "ipython3",
   "version": "3.11.4"
  },
  "orig_nbformat": 4
 },
 "nbformat": 4,
 "nbformat_minor": 2
}
